{
 "cells": [
  {
   "cell_type": "code",
   "execution_count": 8,
   "metadata": {},
   "outputs": [
    {
     "name": "stdout",
     "output_type": "stream",
     "text": [
      "List1:  1 2 3 4 5\n",
      "List1:  1 2 3 4 5 100\n",
      "List2:  6 7 8 9 10\n",
      "List2:  6 7 8 9 10 200\n",
      "List3:  11 12 13 14 15\n",
      "List3:  11 12 13 14 15 300\n",
      "The third element in the tuple is 3\n",
      "Dictionary before deleting:  {'Kholi': 100, 'Rohit': 200, 'Dhawan': 76, 'Dhoni': 20}\n",
      "Dictionary after deleting:  {'Kholi': 100, 'Rohit': 200, 'Dhawan': 76}\n"
     ]
    }
   ],
   "source": [
    "#lists in python\n",
    "\n",
    "list1=[1,2,3,4,5]\n",
    "list2=[6,7,8,9,10]\n",
    "list3=[11,12,13,14,15]\n",
    "\n",
    "print(\"List1: \",*list1)\n",
    "list1.append(100)\n",
    "print(\"List1: \",*list1)\n",
    "\n",
    "print(\"List2: \",*list2)\n",
    "list2.append(200)\n",
    "print(\"List2: \",*list2)\n",
    "\n",
    "print(\"List3: \",*list3)\n",
    "list3.append(300)\n",
    "print(\"List3: \",*list3)\n",
    "\n",
    "#tuples in python\n",
    "\n",
    "tuple1=(1,2,3,4,5)\n",
    "\n",
    "print(\"The third element in the tuple is\",tuple1[2])\n",
    "\n",
    "\n",
    "#dictionaries in python\n",
    "\n",
    "score={'Kholi':100,'Rohit':200,'Dhawan':76,'Dhoni':20}\n",
    "\n",
    "print(\"Dictionary before deleting: \",score)\n",
    "\n",
    "del score['Dhoni']\n",
    "\n",
    "print(\"Dictionary after deleting: \",score)"
   ]
  },
  {
   "cell_type": "code",
   "execution_count": null,
   "metadata": {},
   "outputs": [],
   "source": []
  }
 ],
 "metadata": {
  "kernelspec": {
   "display_name": "Python 3",
   "language": "python",
   "name": "python3"
  },
  "language_info": {
   "codemirror_mode": {
    "name": "ipython",
    "version": 3
   },
   "file_extension": ".py",
   "mimetype": "text/x-python",
   "name": "python",
   "nbconvert_exporter": "python",
   "pygments_lexer": "ipython3",
   "version": "3.6.5"
  }
 },
 "nbformat": 4,
 "nbformat_minor": 2
}
