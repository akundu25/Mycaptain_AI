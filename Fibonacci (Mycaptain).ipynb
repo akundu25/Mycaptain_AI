{
 "cells": [
  {
   "cell_type": "code",
   "execution_count": 1,
   "metadata": {},
   "outputs": [
    {
     "name": "stdout",
     "output_type": "stream",
     "text": [
      "Enter the number of terms for the fibonacci sequence: 20\n",
      "The fibonacci sequence is  0 1 1 2 3 5 8 13 21 34 55 89 144 233 377 610 987 1597 2584 4181\n"
     ]
    }
   ],
   "source": [
    "already={}\n",
    "\n",
    "def fibo(n):\n",
    "    if str(n) in already.keys():\n",
    "        return already[str(n)]\n",
    "    \n",
    "    if n==1:\n",
    "        already[str(n)]=0\n",
    "        return already[str(n)]\n",
    "    elif n==2:\n",
    "        already[str(n)]=1\n",
    "        return already[str(n)]\n",
    "    else:\n",
    "        already[str(n)]=fibo(n-1)+fibo(n-2)\n",
    "        return already[str(n)]\n",
    "    \n",
    "    \n",
    "n=int(input(\"Enter the number of terms for the fibonacci sequence: \"))\n",
    "sequence=[]\n",
    "for i in range(1,n+1):\n",
    "    sequence.append(fibo(i))\n",
    "    \n",
    "print(\"The fibonacci sequence is \",*sequence)"
   ]
  },
  {
   "cell_type": "code",
   "execution_count": null,
   "metadata": {},
   "outputs": [],
   "source": []
  }
 ],
 "metadata": {
  "kernelspec": {
   "display_name": "Python 3",
   "language": "python",
   "name": "python3"
  },
  "language_info": {
   "codemirror_mode": {
    "name": "ipython",
    "version": 3
   },
   "file_extension": ".py",
   "mimetype": "text/x-python",
   "name": "python",
   "nbconvert_exporter": "python",
   "pygments_lexer": "ipython3",
   "version": "3.6.5"
  }
 },
 "nbformat": 4,
 "nbformat_minor": 2
}
